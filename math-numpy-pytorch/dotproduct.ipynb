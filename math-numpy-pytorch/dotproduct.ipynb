{
 "cells": [
  {
   "cell_type": "code",
   "execution_count": 1,
   "metadata": {
    "executionInfo": {
     "elapsed": 4749,
     "status": "ok",
     "timestamp": 1716914569380,
     "user": {
      "displayName": "전영욱 (Lucas Jeon)",
      "userId": "09598341496370624581"
     },
     "user_tz": -540
    },
    "id": "y9oM2lvmFEE9"
   },
   "outputs": [],
   "source": [
    "import numpy as np\n",
    "import torch"
   ]
  },
  {
   "cell_type": "code",
   "execution_count": 2,
   "metadata": {
    "colab": {
     "base_uri": "https://localhost:8080/"
    },
    "executionInfo": {
     "elapsed": 5,
     "status": "ok",
     "timestamp": 1716914620873,
     "user": {
      "displayName": "전영욱 (Lucas Jeon)",
      "userId": "09598341496370624581"
     },
     "user_tz": -540
    },
    "id": "YFXs205EFQtB",
    "outputId": "62202f03-8cd9-40af-facf-d87394d1c69e"
   },
   "outputs": [
    {
     "name": "stdout",
     "output_type": "stream",
     "text": [
      "70\n",
      "70\n"
     ]
    }
   ],
   "source": [
    "#Using numpy\n",
    "nv1 = np.array([1, 2, 3, 4])\n",
    "nv2 = np.array([5, 6, 7, 8])\n",
    "print(np.dot(nv1, nv2))\n",
    "print(np.sum(nv1 * nv2))"
   ]
  },
  {
   "cell_type": "code",
   "execution_count": 4,
   "metadata": {
    "colab": {
     "base_uri": "https://localhost:8080/"
    },
    "executionInfo": {
     "elapsed": 5,
     "status": "ok",
     "timestamp": 1716914693623,
     "user": {
      "displayName": "전영욱 (Lucas Jeon)",
      "userId": "09598341496370624581"
     },
     "user_tz": -540
    },
    "id": "yOPsQB3gFgdD",
    "outputId": "07f09f8f-84b3-43da-e1c4-77ec02ffd1c3"
   },
   "outputs": [
    {
     "name": "stdout",
     "output_type": "stream",
     "text": [
      "tensor(70.)\n",
      "tensor(70.)\n"
     ]
    }
   ],
   "source": [
    "# Using pytorch\n",
    "tv1 = torch.Tensor([1, 2, 3, 4])\n",
    "tv2 = torch.Tensor([5, 6, 7, 8])\n",
    "print(torch.dot(tv1, tv2))\n",
    "print(torch.sum(tv1 * tv2))"
   ]
  },
  {
   "cell_type": "code",
   "execution_count": null,
   "metadata": {
    "id": "8ZqFcvcbFqaH"
   },
   "outputs": [],
   "source": []
  }
 ],
 "metadata": {
  "colab": {
   "authorship_tag": "ABX9TyMzt4aOJMi4o8Evbsg9JF4O",
   "provenance": []
  },
  "kernelspec": {
   "display_name": "dl-env",
   "language": "python",
   "name": "python3"
  },
  "language_info": {
   "name": "python",
   "version": "3.11.7"
  }
 },
 "nbformat": 4,
 "nbformat_minor": 0
}
